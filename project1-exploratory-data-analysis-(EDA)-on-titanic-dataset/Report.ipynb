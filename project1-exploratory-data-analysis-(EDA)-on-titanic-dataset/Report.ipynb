{
 "cells": [
  {
   "cell_type": "markdown",
   "metadata": {},
   "source": [
    "# *Report:*\n",
    "It is to be found that out of $466$ Females $81$ Died,\n",
    "While $385$ Survided. While out of $843$ Males $734$ \n",
    "Died and $109$ Survived, which is quite lesser than \n",
    "those of Females. It is to be found that $20%$ Females \n",
    "with some relative died while $80%$ Survived. However \n",
    "$20%$ men Survived while others died. It can be seen \n",
    "that men had proved to be a helping hand to sacrifice \n",
    "their life to save their beloved ones."
   ]
  }
 ],
 "metadata": {
  "language_info": {
   "name": "python"
  }
 },
 "nbformat": 4,
 "nbformat_minor": 2
}
